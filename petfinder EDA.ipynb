{
  "cells": [
    {
      "metadata": {
        "_uuid": "d4b3ddc43ced33c50b7daff55928b6f3d4a39d4e"
      },
      "cell_type": "markdown",
      "source": "# Petfinder.my\n![](https://3blaws.s3.amazonaws.com/images/3_27.jpg)\n\n## * EDA and ML in progress *"
    },
    {
      "metadata": {
        "_uuid": "8f2839f25d086af736a60e9eeb907d3b93b6e0e5",
        "_cell_guid": "b1076dfc-b9ad-4769-8c92-a6c4dae69d19",
        "trusted": true
      },
      "cell_type": "code",
      "source": "# This Python 3 environment comes with many helpful analytics libraries installed\n# It is defined by the kaggle/python docker image: https://github.com/kaggle/docker-python\n# For example, here's several helpful packages to load in \n\nimport numpy as np # linear algebra\nimport pandas as pd # data processing, CSV file I/O (e.g. pd.read_csv)\n\n# Input data files are available in the \"../input/\" directory.\n# For example, running this (by clicking run or pressing Shift+Enter) will list the files in the input directory\n\nimport os\nprint(os.listdir(\"../input\"))\n\nimport seaborn as sns \nimport matplotlib.pyplot as plt\n%matplotlib inline\n\nplt.style.use('fivethirtyeight')\n\nimport lightgbm as lgb\nimport xgboost as xgb\n\nfrom wordcloud import WordCloud\n\n# Any results you write to the current directory are saved as output.",
      "execution_count": 1,
      "outputs": [
        {
          "output_type": "stream",
          "text": "['train', 'test', 'breed_labels.csv', 'train_sentiment', 'test_sentiment', 'test_metadata', 'train_images', 'train_metadata', 'state_labels.csv', 'color_labels.csv', 'test_images']\n",
          "name": "stdout"
        }
      ]
    },
    {
      "metadata": {
        "_uuid": "87e45fa9977b80d9525ff9380c7f6d174ce622d4"
      },
      "cell_type": "markdown",
      "source": "### Defining Datatypes"
    },
    {
      "metadata": {
        "trusted": true,
        "_uuid": "81d7bc6e43c3a2942012838a12e35c508823d643"
      },
      "cell_type": "code",
      "source": "# I am grateful for the help of author of this kernel for the main idea to load the dataset and save memory space!!\n# https://www.kaggle.com/theoviel/load-the-totality-of-the-data\n\ntrain_dtypes = {\n        'PetID':                            'str',\n        'AdoptionSpeed ':                   'int8',\n        'Type':                             'category',\n        'Name':                             'str',\n        'Age':                              'int8',\n        'Breed1':                           'category',\n        'Breed2':                           'category',\n        'Gender':                           'category',\n        'Color1':                           'category',\n        'Color2':                           'category',\n        'Color3':                           'category',\n        'MaturitySize':                     'float16',\n        'FurLength':                        'int8',\n        'Vaccinated':                       'category',\n        'Dewormed':                         'category',\n        'Sterilized':                       'category',\n        'Health':                           'category',\n        'Quantity':                         'uint16',\n        'State':                            'uint16',\n        'Fee':                              'float',\n        'RescuerID':                        'category',\n        'VideoAmt':                         'uint16',\n        'PhotoAmt':                         'uint16',\n        'Description ':                     'str'\n        }\n\nbreeds_dtypes = {\n        'BreedID':                          'category',\n        'Type ':                            'category',\n        'BreedName':                        'str'\n        }\n\ncolors_dtypes = {\n        'ColorID':                          'category',\n        'ColorName':                        'str'\n        }\n\nstates_dtypes = {\n        'StateID':                          'uint16',\n        'StateName':                        'str'\n        }",
      "execution_count": 167,
      "outputs": []
    },
    {
      "metadata": {
        "_cell_guid": "79c7e3d0-c299-4dcb-8224-4455121ee9b0",
        "_uuid": "d629ff2d2480ee46fbb7e2d37f6b5fab8052498a",
        "trusted": true
      },
      "cell_type": "code",
      "source": "breeds = pd.read_csv('../input/breed_labels.csv', dtype=breeds_dtypes)\ncolors = pd.read_csv('../input/color_labels.csv',  dtype=colors_dtypes)\nstates = pd.read_csv('../input/state_labels.csv', dtype=states_dtypes)\n\ntrain = pd.read_csv('../input/train/train.csv', dtype=train_dtypes)\ntest = pd.read_csv('../input/test/test.csv', dtype=train_dtypes)\nsub = pd.read_csv('../input/test/sample_submission.csv')\n\ntrain['dataset_type'] = 'train'\ntest['dataset_type'] = 'test'\ntrain_and_test = pd.concat([train, test])",
      "execution_count": 168,
      "outputs": [
        {
          "output_type": "stream",
          "text": "/opt/conda/lib/python3.6/site-packages/ipykernel_launcher.py:11: FutureWarning: Sorting because non-concatenation axis is not aligned. A future version\nof pandas will change to not sort by default.\n\nTo accept the future behavior, pass 'sort=False'.\n\nTo retain the current behavior and silence the warning, pass 'sort=True'.\n\n  # This is added back by InteractiveShellApp.init_path()\n",
          "name": "stderr"
        }
      ]
    },
    {
      "metadata": {
        "trusted": true,
        "_uuid": "3c3399ec3798ddb5984987364b14662703408866"
      },
      "cell_type": "code",
      "source": "train_and_test.head()",
      "execution_count": 169,
      "outputs": [
        {
          "output_type": "execute_result",
          "execution_count": 169,
          "data": {
            "text/plain": "   AdoptionSpeed  Age Breed1     ...      Vaccinated VideoAmt dataset_type\n0            2.0    3    299     ...               2        0        train\n1            0.0    1    265     ...               3        0        train\n2            3.0    1    307     ...               1        0        train\n3            2.0    4    307     ...               1        0        train\n4            2.0    1    307     ...               2        0        train\n\n[5 rows x 25 columns]",
            "text/html": "<div>\n<style scoped>\n    .dataframe tbody tr th:only-of-type {\n        vertical-align: middle;\n    }\n\n    .dataframe tbody tr th {\n        vertical-align: top;\n    }\n\n    .dataframe thead th {\n        text-align: right;\n    }\n</style>\n<table border=\"1\" class=\"dataframe\">\n  <thead>\n    <tr style=\"text-align: right;\">\n      <th></th>\n      <th>AdoptionSpeed</th>\n      <th>Age</th>\n      <th>Breed1</th>\n      <th>Breed2</th>\n      <th>Color1</th>\n      <th>Color2</th>\n      <th>Color3</th>\n      <th>Description</th>\n      <th>Dewormed</th>\n      <th>Fee</th>\n      <th>FurLength</th>\n      <th>Gender</th>\n      <th>Health</th>\n      <th>MaturitySize</th>\n      <th>Name</th>\n      <th>PetID</th>\n      <th>PhotoAmt</th>\n      <th>Quantity</th>\n      <th>RescuerID</th>\n      <th>State</th>\n      <th>Sterilized</th>\n      <th>Type</th>\n      <th>Vaccinated</th>\n      <th>VideoAmt</th>\n      <th>dataset_type</th>\n    </tr>\n  </thead>\n  <tbody>\n    <tr>\n      <th>0</th>\n      <td>2.0</td>\n      <td>3</td>\n      <td>299</td>\n      <td>0</td>\n      <td>1</td>\n      <td>7</td>\n      <td>0</td>\n      <td>Nibble is a 3+ month old ball of cuteness. He ...</td>\n      <td>2</td>\n      <td>100.0</td>\n      <td>1</td>\n      <td>1</td>\n      <td>1</td>\n      <td>1.0</td>\n      <td>Nibble</td>\n      <td>86e1089a3</td>\n      <td>1</td>\n      <td>1</td>\n      <td>8480853f516546f6cf33aa88cd76c379</td>\n      <td>41326</td>\n      <td>2</td>\n      <td>2</td>\n      <td>2</td>\n      <td>0</td>\n      <td>train</td>\n    </tr>\n    <tr>\n      <th>1</th>\n      <td>0.0</td>\n      <td>1</td>\n      <td>265</td>\n      <td>0</td>\n      <td>1</td>\n      <td>2</td>\n      <td>0</td>\n      <td>I just found it alone yesterday near my apartm...</td>\n      <td>3</td>\n      <td>0.0</td>\n      <td>2</td>\n      <td>1</td>\n      <td>1</td>\n      <td>2.0</td>\n      <td>No Name Yet</td>\n      <td>6296e909a</td>\n      <td>2</td>\n      <td>1</td>\n      <td>3082c7125d8fb66f7dd4bff4192c8b14</td>\n      <td>41401</td>\n      <td>3</td>\n      <td>2</td>\n      <td>3</td>\n      <td>0</td>\n      <td>train</td>\n    </tr>\n    <tr>\n      <th>2</th>\n      <td>3.0</td>\n      <td>1</td>\n      <td>307</td>\n      <td>0</td>\n      <td>2</td>\n      <td>7</td>\n      <td>0</td>\n      <td>Their pregnant mother was dumped by her irresp...</td>\n      <td>1</td>\n      <td>0.0</td>\n      <td>2</td>\n      <td>1</td>\n      <td>1</td>\n      <td>2.0</td>\n      <td>Brisco</td>\n      <td>3422e4906</td>\n      <td>7</td>\n      <td>1</td>\n      <td>fa90fa5b1ee11c86938398b60abc32cb</td>\n      <td>41326</td>\n      <td>2</td>\n      <td>1</td>\n      <td>1</td>\n      <td>0</td>\n      <td>train</td>\n    </tr>\n    <tr>\n      <th>3</th>\n      <td>2.0</td>\n      <td>4</td>\n      <td>307</td>\n      <td>0</td>\n      <td>1</td>\n      <td>2</td>\n      <td>0</td>\n      <td>Good guard dog, very alert, active, obedience ...</td>\n      <td>1</td>\n      <td>150.0</td>\n      <td>1</td>\n      <td>2</td>\n      <td>1</td>\n      <td>2.0</td>\n      <td>Miko</td>\n      <td>5842f1ff5</td>\n      <td>8</td>\n      <td>1</td>\n      <td>9238e4f44c71a75282e62f7136c6b240</td>\n      <td>41401</td>\n      <td>2</td>\n      <td>1</td>\n      <td>1</td>\n      <td>0</td>\n      <td>train</td>\n    </tr>\n    <tr>\n      <th>4</th>\n      <td>2.0</td>\n      <td>1</td>\n      <td>307</td>\n      <td>0</td>\n      <td>1</td>\n      <td>0</td>\n      <td>0</td>\n      <td>This handsome yet cute boy is up for adoption....</td>\n      <td>2</td>\n      <td>0.0</td>\n      <td>1</td>\n      <td>1</td>\n      <td>1</td>\n      <td>2.0</td>\n      <td>Hunter</td>\n      <td>850a43f90</td>\n      <td>3</td>\n      <td>1</td>\n      <td>95481e953f8aed9ec3d16fc4509537e8</td>\n      <td>41326</td>\n      <td>2</td>\n      <td>1</td>\n      <td>2</td>\n      <td>0</td>\n      <td>train</td>\n    </tr>\n  </tbody>\n</table>\n</div>"
          },
          "metadata": {}
        }
      ]
    },
    {
      "metadata": {
        "trusted": true,
        "_uuid": "c72c36ec9659d059a75155a5c70a9d0503f2b206"
      },
      "cell_type": "code",
      "source": "train.describe()",
      "execution_count": 137,
      "outputs": [
        {
          "output_type": "execute_result",
          "execution_count": 137,
          "data": {
            "text/plain": "                Age  MaturitySize      ...            PhotoAmt  AdoptionSpeed\ncount  14993.000000  14993.000000      ...        14993.000000   14993.000000\nmean      10.042286      1.862305      ...            3.889215       2.516441\nstd       17.520097      0.547852      ...            3.487810       1.177265\nmin     -124.000000      1.000000      ...            0.000000       0.000000\n25%        2.000000      2.000000      ...            2.000000       2.000000\n50%        3.000000      2.000000      ...            3.000000       2.000000\n75%       11.000000      2.000000      ...            5.000000       4.000000\nmax      123.000000      4.000000      ...           30.000000       4.000000\n\n[8 rows x 9 columns]",
            "text/html": "<div>\n<style scoped>\n    .dataframe tbody tr th:only-of-type {\n        vertical-align: middle;\n    }\n\n    .dataframe tbody tr th {\n        vertical-align: top;\n    }\n\n    .dataframe thead th {\n        text-align: right;\n    }\n</style>\n<table border=\"1\" class=\"dataframe\">\n  <thead>\n    <tr style=\"text-align: right;\">\n      <th></th>\n      <th>Age</th>\n      <th>MaturitySize</th>\n      <th>FurLength</th>\n      <th>Quantity</th>\n      <th>Fee</th>\n      <th>State</th>\n      <th>VideoAmt</th>\n      <th>PhotoAmt</th>\n      <th>AdoptionSpeed</th>\n    </tr>\n  </thead>\n  <tbody>\n    <tr>\n      <th>count</th>\n      <td>14993.000000</td>\n      <td>14993.000000</td>\n      <td>14993.000000</td>\n      <td>14993.000000</td>\n      <td>14993.000000</td>\n      <td>14993.000000</td>\n      <td>14993.000000</td>\n      <td>14993.000000</td>\n      <td>14993.000000</td>\n    </tr>\n    <tr>\n      <th>mean</th>\n      <td>10.042286</td>\n      <td>1.862305</td>\n      <td>1.467485</td>\n      <td>1.576069</td>\n      <td>21.259988</td>\n      <td>41346.028347</td>\n      <td>0.056760</td>\n      <td>3.889215</td>\n      <td>2.516441</td>\n    </tr>\n    <tr>\n      <th>std</th>\n      <td>17.520097</td>\n      <td>0.547852</td>\n      <td>0.599070</td>\n      <td>1.472477</td>\n      <td>78.414548</td>\n      <td>32.444153</td>\n      <td>0.346185</td>\n      <td>3.487810</td>\n      <td>1.177265</td>\n    </tr>\n    <tr>\n      <th>min</th>\n      <td>-124.000000</td>\n      <td>1.000000</td>\n      <td>1.000000</td>\n      <td>1.000000</td>\n      <td>0.000000</td>\n      <td>41324.000000</td>\n      <td>0.000000</td>\n      <td>0.000000</td>\n      <td>0.000000</td>\n    </tr>\n    <tr>\n      <th>25%</th>\n      <td>2.000000</td>\n      <td>2.000000</td>\n      <td>1.000000</td>\n      <td>1.000000</td>\n      <td>0.000000</td>\n      <td>41326.000000</td>\n      <td>0.000000</td>\n      <td>2.000000</td>\n      <td>2.000000</td>\n    </tr>\n    <tr>\n      <th>50%</th>\n      <td>3.000000</td>\n      <td>2.000000</td>\n      <td>1.000000</td>\n      <td>1.000000</td>\n      <td>0.000000</td>\n      <td>41326.000000</td>\n      <td>0.000000</td>\n      <td>3.000000</td>\n      <td>2.000000</td>\n    </tr>\n    <tr>\n      <th>75%</th>\n      <td>11.000000</td>\n      <td>2.000000</td>\n      <td>2.000000</td>\n      <td>1.000000</td>\n      <td>0.000000</td>\n      <td>41401.000000</td>\n      <td>0.000000</td>\n      <td>5.000000</td>\n      <td>4.000000</td>\n    </tr>\n    <tr>\n      <th>max</th>\n      <td>123.000000</td>\n      <td>4.000000</td>\n      <td>3.000000</td>\n      <td>20.000000</td>\n      <td>3000.000000</td>\n      <td>41415.000000</td>\n      <td>8.000000</td>\n      <td>30.000000</td>\n      <td>4.000000</td>\n    </tr>\n  </tbody>\n</table>\n</div>"
          },
          "metadata": {}
        }
      ]
    },
    {
      "metadata": {
        "trusted": true,
        "_uuid": "f433b4607a84775fd5ab2fb7d4de59a1163d53a7"
      },
      "cell_type": "code",
      "source": "train.info()",
      "execution_count": 138,
      "outputs": [
        {
          "output_type": "stream",
          "text": "<class 'pandas.core.frame.DataFrame'>\nRangeIndex: 14993 entries, 0 to 14992\nData columns (total 25 columns):\nType             14993 non-null category\nName             13736 non-null object\nAge              14993 non-null int8\nBreed1           14993 non-null category\nBreed2           14993 non-null category\nGender           14993 non-null category\nColor1           14993 non-null category\nColor2           14993 non-null category\nColor3           14993 non-null category\nMaturitySize     14993 non-null float16\nFurLength        14993 non-null int8\nVaccinated       14993 non-null category\nDewormed         14993 non-null category\nSterilized       14993 non-null category\nHealth           14993 non-null category\nQuantity         14993 non-null uint16\nFee              14993 non-null float64\nState            14993 non-null uint16\nRescuerID        14993 non-null category\nVideoAmt         14993 non-null uint16\nDescription      14981 non-null object\nPetID            14993 non-null category\nPhotoAmt         14993 non-null uint16\nAdoptionSpeed    14993 non-null int64\ndataset_type     14993 non-null object\ndtypes: category(13), float16(1), float64(1), int64(1), int8(2), object(3), uint16(4)\nmemory usage: 1.9+ MB\n",
          "name": "stdout"
        }
      ]
    },
    {
      "metadata": {
        "_uuid": "9a629d9c27926e756a60d50e20c5e1eb1813b3f2"
      },
      "cell_type": "markdown",
      "source": "- We have almost 15 thousands dogs and cats in the dataset;\n- Main dataset contains all important information about pets: age, breed, color, some characteristics and other things;\n- Desctiptions were analyzed using Google's Natural Language API providing sentiments and entities. I suppose we could do a similar thing ourselves;\n- There are photos of some pets;\n- Some meta-information was extracted from images and we can use it;\n- There are separate files with labels for breeds, colors and states;\n- Let's start with the main dataset.\n\nI have also created a full dataset by combining train and test data. This is done purely for more convenient visualization. Column \"dataset_type\" shows which dataset the data belongs to."
    },
    {
      "metadata": {
        "_uuid": "67dc03466dee401eb264254bbc354ef409170c96"
      },
      "cell_type": "markdown",
      "source": "## Exploratory Data Analysis"
    },
    {
      "metadata": {
        "trusted": true,
        "_uuid": "771c9512034eb2a77c5fc0658bb533a4fdea403d"
      },
      "cell_type": "code",
      "source": "train.columns",
      "execution_count": 139,
      "outputs": [
        {
          "output_type": "execute_result",
          "execution_count": 139,
          "data": {
            "text/plain": "Index(['Type', 'Name', 'Age', 'Breed1', 'Breed2', 'Gender', 'Color1', 'Color2',\n       'Color3', 'MaturitySize', 'FurLength', 'Vaccinated', 'Dewormed',\n       'Sterilized', 'Health', 'Quantity', 'Fee', 'State', 'RescuerID',\n       'VideoAmt', 'Description', 'PetID', 'PhotoAmt', 'AdoptionSpeed',\n       'dataset_type'],\n      dtype='object')"
          },
          "metadata": {}
        }
      ]
    },
    {
      "metadata": {
        "trusted": true,
        "_uuid": "b8efd0b90ada9f7775c4918386f6517b1d78128b"
      },
      "cell_type": "code",
      "source": "train.shape",
      "execution_count": 153,
      "outputs": [
        {
          "output_type": "execute_result",
          "execution_count": 153,
          "data": {
            "text/plain": "(14993, 25)"
          },
          "metadata": {}
        }
      ]
    },
    {
      "metadata": {
        "trusted": true,
        "_uuid": "f223f8d669842dc19a239312e92fa43e4d9ddd30"
      },
      "cell_type": "code",
      "source": "train_and_test.shape",
      "execution_count": 154,
      "outputs": [
        {
          "output_type": "execute_result",
          "execution_count": 154,
          "data": {
            "text/plain": "(18941, 25)"
          },
          "metadata": {}
        }
      ]
    },
    {
      "metadata": {
        "trusted": true,
        "_uuid": "8ef0b8490e38cd5bb24bc90950503095614e773d"
      },
      "cell_type": "code",
      "source": "train.AdoptionSpeed.value_counts()",
      "execution_count": 142,
      "outputs": [
        {
          "output_type": "execute_result",
          "execution_count": 142,
          "data": {
            "text/plain": "4    4197\n2    4037\n3    3259\n1    3090\n0     410\nName: AdoptionSpeed, dtype: int64"
          },
          "metadata": {}
        }
      ]
    },
    {
      "metadata": {
        "trusted": true,
        "_uuid": "e3eb87669fe22162d398af8ba83af732114188f9"
      },
      "cell_type": "code",
      "source": "train.AdoptionSpeed.value_counts() * 100 / train.shape[0]",
      "execution_count": 143,
      "outputs": [
        {
          "output_type": "execute_result",
          "execution_count": 143,
          "data": {
            "text/plain": "4    27.993063\n2    26.925899\n3    21.736811\n1    20.609618\n0     2.734609\nName: AdoptionSpeed, dtype: float64"
          },
          "metadata": {}
        }
      ]
    },
    {
      "metadata": {
        "trusted": true,
        "_uuid": "aafb1349fd1a3f44ffcac84eca2ecf871190bcad"
      },
      "cell_type": "code",
      "source": "train['AdoptionSpeed'].value_counts().sort_index().plot('bar');\nplt.title('Adoption speed classes counts');",
      "execution_count": 166,
      "outputs": [
        {
          "output_type": "display_data",
          "data": {
            "text/plain": "<Figure size 432x288 with 1 Axes>",
            "image/png": "[encoded data removed]"
          },
          "metadata": {}
        }
      ]
    },
    {
      "metadata": {
        "_uuid": "19c7f1472ca7b687db40e6017441f27cabfbde44"
      },
      "cell_type": "markdown",
      "source": "We can see that some pets were adopted immediately, but these are rare cases: maybe someone wanted to adopt any pet, or the pet was lucky to be seen by person, who wanted a similar pet. A lot of pets aren't adopted at all, which is quite sad :( I hope our models and analysis will help them to find their home!\n\nIt is nice that a lot of pets are adopted within a first week of being listed!\n\nOne more interesting thing is that the classes have a linear relationship - the higher the number, the worse situation is. So it could be possible to build not only multiclass classification, but also regression."
    },
    {
      "metadata": {
        "_uuid": "82c6858864d5aafea4afc4ae4b462699ce00e797"
      },
      "cell_type": "markdown",
      "source": "### Joining Dataframes\n- Train and Test with Breeds"
    },
    {
      "metadata": {
        "trusted": true,
        "_uuid": "18aa1211b98c0d61d06a14589907adc499dbc690"
      },
      "cell_type": "code",
      "source": "breeds[\"Breed1\"] = breeds.BreedID\n#breeds.drop(\"BreedID\", axis=\"columns\", inplace=True)\n#breeds.drop(\"Type\", axis=\"columns\", inplace=True)\n\ntrain_and_test_with_breeds = pd.merge(train_and_test, breeds[[\"Breed1\", \"BreedName\"]], how= 'left',\n                                      on=\"Breed1\")\n\ntrain_and_test_with_breeds[\"BreedName_1\"] = train_and_test_with_breeds.BreedName\ntrain_and_test_with_breeds.drop(\"BreedName\", axis=\"columns\", inplace=True)\n\nbreeds[\"Breed2\"] = breeds.Breed1\ntrain_and_test_with_breeds = pd.merge(train_and_test_with_breeds, breeds[[\"Breed2\", \"BreedName\"]], how= 'left',\n                                      on=\"Breed2\")\n\ntrain_and_test_with_breeds[\"BreedName_2\"] = train_and_test_with_breeds.BreedName\ntrain_and_test_with_breeds.drop(\"BreedName\", axis=\"columns\", inplace=True)\n \ntrain_and_test_with_breeds.head(4)\n#all_data_and_breeds = pd.merge(all_data, breeds, on=\"\")",
      "execution_count": 145,
      "outputs": [
        {
          "output_type": "execute_result",
          "execution_count": 145,
          "data": {
            "text/plain": "   AdoptionSpeed  Age     ...               BreedName_1 BreedName_2\n0            2.0    3     ...                     Tabby         NaN\n1            0.0    1     ...      Domestic Medium Hair         NaN\n2            3.0    1     ...               Mixed Breed         NaN\n3            2.0    4     ...               Mixed Breed         NaN\n\n[4 rows x 27 columns]",
            "text/html": "<div>\n<style scoped>\n    .dataframe tbody tr th:only-of-type {\n        vertical-align: middle;\n    }\n\n    .dataframe tbody tr th {\n        vertical-align: top;\n    }\n\n    .dataframe thead th {\n        text-align: right;\n    }\n</style>\n<table border=\"1\" class=\"dataframe\">\n  <thead>\n    <tr style=\"text-align: right;\">\n      <th></th>\n      <th>AdoptionSpeed</th>\n      <th>Age</th>\n      <th>Breed1</th>\n      <th>Breed2</th>\n      <th>Color1</th>\n      <th>Color2</th>\n      <th>Color3</th>\n      <th>Description</th>\n      <th>Dewormed</th>\n      <th>Fee</th>\n      <th>FurLength</th>\n      <th>Gender</th>\n      <th>Health</th>\n      <th>MaturitySize</th>\n      <th>Name</th>\n      <th>PetID</th>\n      <th>PhotoAmt</th>\n      <th>Quantity</th>\n      <th>RescuerID</th>\n      <th>State</th>\n      <th>Sterilized</th>\n      <th>Type</th>\n      <th>Vaccinated</th>\n      <th>VideoAmt</th>\n      <th>dataset_type</th>\n      <th>BreedName_1</th>\n      <th>BreedName_2</th>\n    </tr>\n  </thead>\n  <tbody>\n    <tr>\n      <th>0</th>\n      <td>2.0</td>\n      <td>3</td>\n      <td>299</td>\n      <td>0</td>\n      <td>1</td>\n      <td>7</td>\n      <td>0</td>\n      <td>Nibble is a 3+ month old ball of cuteness. He ...</td>\n      <td>2</td>\n      <td>100.0</td>\n      <td>1</td>\n      <td>1</td>\n      <td>1</td>\n      <td>1.0</td>\n      <td>Nibble</td>\n      <td>86e1089a3</td>\n      <td>1</td>\n      <td>1</td>\n      <td>8480853f516546f6cf33aa88cd76c379</td>\n      <td>41326</td>\n      <td>2</td>\n      <td>2</td>\n      <td>2</td>\n      <td>0</td>\n      <td>train</td>\n      <td>Tabby</td>\n      <td>NaN</td>\n    </tr>\n    <tr>\n      <th>1</th>\n      <td>0.0</td>\n      <td>1</td>\n      <td>265</td>\n      <td>0</td>\n      <td>1</td>\n      <td>2</td>\n      <td>0</td>\n      <td>I just found it alone yesterday near my apartm...</td>\n      <td>3</td>\n      <td>0.0</td>\n      <td>2</td>\n      <td>1</td>\n      <td>1</td>\n      <td>2.0</td>\n      <td>No Name Yet</td>\n      <td>6296e909a</td>\n      <td>2</td>\n      <td>1</td>\n      <td>3082c7125d8fb66f7dd4bff4192c8b14</td>\n      <td>41401</td>\n      <td>3</td>\n      <td>2</td>\n      <td>3</td>\n      <td>0</td>\n      <td>train</td>\n      <td>Domestic Medium Hair</td>\n      <td>NaN</td>\n    </tr>\n    <tr>\n      <th>2</th>\n      <td>3.0</td>\n      <td>1</td>\n      <td>307</td>\n      <td>0</td>\n      <td>2</td>\n      <td>7</td>\n      <td>0</td>\n      <td>Their pregnant mother was dumped by her irresp...</td>\n      <td>1</td>\n      <td>0.0</td>\n      <td>2</td>\n      <td>1</td>\n      <td>1</td>\n      <td>2.0</td>\n      <td>Brisco</td>\n      <td>3422e4906</td>\n      <td>7</td>\n      <td>1</td>\n      <td>fa90fa5b1ee11c86938398b60abc32cb</td>\n      <td>41326</td>\n      <td>2</td>\n      <td>1</td>\n      <td>1</td>\n      <td>0</td>\n      <td>train</td>\n      <td>Mixed Breed</td>\n      <td>NaN</td>\n    </tr>\n    <tr>\n      <th>3</th>\n      <td>2.0</td>\n      <td>4</td>\n      <td>307</td>\n      <td>0</td>\n      <td>1</td>\n      <td>2</td>\n      <td>0</td>\n      <td>Good guard dog, very alert, active, obedience ...</td>\n      <td>1</td>\n      <td>150.0</td>\n      <td>1</td>\n      <td>2</td>\n      <td>1</td>\n      <td>2.0</td>\n      <td>Miko</td>\n      <td>5842f1ff5</td>\n      <td>8</td>\n      <td>1</td>\n      <td>9238e4f44c71a75282e62f7136c6b240</td>\n      <td>41401</td>\n      <td>2</td>\n      <td>1</td>\n      <td>1</td>\n      <td>0</td>\n      <td>train</td>\n      <td>Mixed Breed</td>\n      <td>NaN</td>\n    </tr>\n  </tbody>\n</table>\n</div>"
          },
          "metadata": {}
        }
      ]
    },
    {
      "metadata": {
        "trusted": true,
        "_uuid": "6bda174d2509146aec8f329f13e180554b3b70e3"
      },
      "cell_type": "code",
      "source": "train_and_test_with_breeds.shape",
      "execution_count": 146,
      "outputs": [
        {
          "output_type": "execute_result",
          "execution_count": 146,
          "data": {
            "text/plain": "(18941, 27)"
          },
          "metadata": {}
        }
      ]
    },
    {
      "metadata": {
        "_uuid": "07740ecdcc7cd8860915d964267ac3ed8fae6ff4"
      },
      "cell_type": "markdown",
      "source": "### Joining Dataframes\n- Train and Test and Breeds with Color Dataframe"
    },
    {
      "metadata": {
        "trusted": true,
        "_uuid": "c952ca98b2f1fe419b785867c0cca41bfc758017"
      },
      "cell_type": "code",
      "source": "colors[\"Color1\"] = colors.ColorID\n#breeds.drop(\"BreedID\", axis=\"columns\", inplace=True)\n#breeds.drop(\"Type\", axis=\"columns\", inplace=True)\n\ntrain_and_test_with_breeds_colors = pd.merge(train_and_test_with_breeds, colors[[\"Color1\", \"ColorName\"]], \n                                             how= 'left', on=\"Color1\")\n\ntrain_and_test_with_breeds_colors[\"ColorName_1\"] = train_and_test_with_breeds_colors.ColorName\ntrain_and_test_with_breeds_colors.drop(\"ColorName\", axis=\"columns\", inplace=True)\n\ncolors[\"Color2\"] = colors.ColorID\ntrain_and_test_with_breeds_colors = pd.merge(train_and_test_with_breeds_colors, colors[[\"Color2\", \"ColorName\"]], \n                                      how= 'left', on=\"Color2\")\n\ntrain_and_test_with_breeds_colors[\"ColorName_2\"] = train_and_test_with_breeds_colors.ColorName\ntrain_and_test_with_breeds_colors.drop(\"ColorName\", axis=\"columns\", inplace=True)\n\ncolors[\"Color3\"] = colors.ColorID\ntrain_and_test_with_breeds_colors = pd.merge(train_and_test_with_breeds_colors, colors[[\"Color3\", \"ColorName\"]], \n                                      how= 'left', on=\"Color3\")\n\ntrain_and_test_with_breeds_colors[\"ColorName_3\"] = train_and_test_with_breeds_colors.ColorName\ntrain_and_test_with_breeds_colors.drop(\"ColorName\", axis=\"columns\", inplace=True)\n \ntrain_and_test_with_breeds_colors.head(4)\n#all_data_and_breeds = pd.merge(all_data, breeds, on=\"\")",
      "execution_count": 147,
      "outputs": [
        {
          "output_type": "execute_result",
          "execution_count": 147,
          "data": {
            "text/plain": "   AdoptionSpeed  Age Breed1     ...     ColorName_1 ColorName_2 ColorName_3\n0            2.0    3    299     ...           Black       White         NaN\n1            0.0    1    265     ...           Black       Brown         NaN\n2            3.0    1    307     ...           Brown       White         NaN\n3            2.0    4    307     ...           Black       Brown         NaN\n\n[4 rows x 30 columns]",
            "text/html": "<div>\n<style scoped>\n    .dataframe tbody tr th:only-of-type {\n        vertical-align: middle;\n    }\n\n    .dataframe tbody tr th {\n        vertical-align: top;\n    }\n\n    .dataframe thead th {\n        text-align: right;\n    }\n</style>\n<table border=\"1\" class=\"dataframe\">\n  <thead>\n    <tr style=\"text-align: right;\">\n      <th></th>\n      <th>AdoptionSpeed</th>\n      <th>Age</th>\n      <th>Breed1</th>\n      <th>Breed2</th>\n      <th>Color1</th>\n      <th>Color2</th>\n      <th>Color3</th>\n      <th>Description</th>\n      <th>Dewormed</th>\n      <th>Fee</th>\n      <th>FurLength</th>\n      <th>Gender</th>\n      <th>Health</th>\n      <th>MaturitySize</th>\n      <th>Name</th>\n      <th>PetID</th>\n      <th>PhotoAmt</th>\n      <th>Quantity</th>\n      <th>RescuerID</th>\n      <th>State</th>\n      <th>Sterilized</th>\n      <th>Type</th>\n      <th>Vaccinated</th>\n      <th>VideoAmt</th>\n      <th>dataset_type</th>\n      <th>BreedName_1</th>\n      <th>BreedName_2</th>\n      <th>ColorName_1</th>\n      <th>ColorName_2</th>\n      <th>ColorName_3</th>\n    </tr>\n  </thead>\n  <tbody>\n    <tr>\n      <th>0</th>\n      <td>2.0</td>\n      <td>3</td>\n      <td>299</td>\n      <td>0</td>\n      <td>1</td>\n      <td>7</td>\n      <td>0</td>\n      <td>Nibble is a 3+ month old ball of cuteness. He ...</td>\n      <td>2</td>\n      <td>100.0</td>\n      <td>1</td>\n      <td>1</td>\n      <td>1</td>\n      <td>1.0</td>\n      <td>Nibble</td>\n      <td>86e1089a3</td>\n      <td>1</td>\n      <td>1</td>\n      <td>8480853f516546f6cf33aa88cd76c379</td>\n      <td>41326</td>\n      <td>2</td>\n      <td>2</td>\n      <td>2</td>\n      <td>0</td>\n      <td>train</td>\n      <td>Tabby</td>\n      <td>NaN</td>\n      <td>Black</td>\n      <td>White</td>\n      <td>NaN</td>\n    </tr>\n    <tr>\n      <th>1</th>\n      <td>0.0</td>\n      <td>1</td>\n      <td>265</td>\n      <td>0</td>\n      <td>1</td>\n      <td>2</td>\n      <td>0</td>\n      <td>I just found it alone yesterday near my apartm...</td>\n      <td>3</td>\n      <td>0.0</td>\n      <td>2</td>\n      <td>1</td>\n      <td>1</td>\n      <td>2.0</td>\n      <td>No Name Yet</td>\n      <td>6296e909a</td>\n      <td>2</td>\n      <td>1</td>\n      <td>3082c7125d8fb66f7dd4bff4192c8b14</td>\n      <td>41401</td>\n      <td>3</td>\n      <td>2</td>\n      <td>3</td>\n      <td>0</td>\n      <td>train</td>\n      <td>Domestic Medium Hair</td>\n      <td>NaN</td>\n      <td>Black</td>\n      <td>Brown</td>\n      <td>NaN</td>\n    </tr>\n    <tr>\n      <th>2</th>\n      <td>3.0</td>\n      <td>1</td>\n      <td>307</td>\n      <td>0</td>\n      <td>2</td>\n      <td>7</td>\n      <td>0</td>\n      <td>Their pregnant mother was dumped by her irresp...</td>\n      <td>1</td>\n      <td>0.0</td>\n      <td>2</td>\n      <td>1</td>\n      <td>1</td>\n      <td>2.0</td>\n      <td>Brisco</td>\n      <td>3422e4906</td>\n      <td>7</td>\n      <td>1</td>\n      <td>fa90fa5b1ee11c86938398b60abc32cb</td>\n      <td>41326</td>\n      <td>2</td>\n      <td>1</td>\n      <td>1</td>\n      <td>0</td>\n      <td>train</td>\n      <td>Mixed Breed</td>\n      <td>NaN</td>\n      <td>Brown</td>\n      <td>White</td>\n      <td>NaN</td>\n    </tr>\n    <tr>\n      <th>3</th>\n      <td>2.0</td>\n      <td>4</td>\n      <td>307</td>\n      <td>0</td>\n      <td>1</td>\n      <td>2</td>\n      <td>0</td>\n      <td>Good guard dog, very alert, active, obedience ...</td>\n      <td>1</td>\n      <td>150.0</td>\n      <td>1</td>\n      <td>2</td>\n      <td>1</td>\n      <td>2.0</td>\n      <td>Miko</td>\n      <td>5842f1ff5</td>\n      <td>8</td>\n      <td>1</td>\n      <td>9238e4f44c71a75282e62f7136c6b240</td>\n      <td>41401</td>\n      <td>2</td>\n      <td>1</td>\n      <td>1</td>\n      <td>0</td>\n      <td>train</td>\n      <td>Mixed Breed</td>\n      <td>NaN</td>\n      <td>Black</td>\n      <td>Brown</td>\n      <td>NaN</td>\n    </tr>\n  </tbody>\n</table>\n</div>"
          },
          "metadata": {}
        }
      ]
    },
    {
      "metadata": {
        "trusted": true,
        "_uuid": "ebea01470b8a0a9466f3e366fffab49e9d2c175e"
      },
      "cell_type": "code",
      "source": "train_and_test_with_breeds_colors.shape",
      "execution_count": 148,
      "outputs": [
        {
          "output_type": "execute_result",
          "execution_count": 148,
          "data": {
            "text/plain": "(18941, 30)"
          },
          "metadata": {}
        }
      ]
    },
    {
      "metadata": {
        "_uuid": "a3bd8fb6d2df5bed33e13f3b7b690f5c96b36057"
      },
      "cell_type": "markdown",
      "source": " ### Joining Dataframes #3\n- Train and Test and Breeds and Colors with States Dataframe"
    },
    {
      "metadata": {
        "trusted": true,
        "_uuid": "c00c931c2a1e8f810814572cc7cd898ff1723212"
      },
      "cell_type": "code",
      "source": "states[\"State\"] = states.StateID\n#breeds.drop(\"BreedID\", axis=\"columns\", inplace=True)\n#breeds.drop(\"Type\", axis=\"columns\", inplace=True)\n\ntrain_and_test_with_breeds_colors_states = pd.merge(train_and_test_with_breeds_colors, states[[\"State\", \"StateName\"]], \n                                             how= 'left', on=\"State\")\n\n'''\ntrain_and_test_with_breeds_colors_states[\"ColorName_1\"] = train_and_test_with_breeds_colors.ColorName\ntrain_and_test_with_breeds_colors.drop(\"ColorName\", axis=\"columns\", inplace=True)\n\ncolors[\"Color2\"] = colors.ColorID\ntrain_and_test_with_breeds_colors = pd.merge(train_and_test_with_breeds_colors, colors[[\"Color2\", \"ColorName\"]], \n                                      how= 'left', on=\"Color2\")\n\ntrain_and_test_with_breeds_colors[\"ColorName_2\"] = train_and_test_with_breeds_colors.ColorName\ntrain_and_test_with_breeds_colors.drop(\"ColorName\", axis=\"columns\", inplace=True)\n\ncolors[\"Color3\"] = colors.ColorID\ntrain_and_test_with_breeds_colors = pd.merge(train_and_test_with_breeds_colors, colors[[\"Color3\", \"ColorName\"]], \n                                      how= 'left', on=\"Color3\")\n\ntrain_and_test_with_breeds_colors[\"ColorName_3\"] = train_and_test_with_breeds_colors.ColorName\ntrain_and_test_with_breeds_colors.drop(\"ColorName\", axis=\"columns\", inplace=True)\n'''\n \ntrain_and_test_with_breeds_colors_states.head(4)\n#all_data_and_breeds = pd.merge(all_data, breeds, on=\"\")",
      "execution_count": 155,
      "outputs": [
        {
          "output_type": "execute_result",
          "execution_count": 155,
          "data": {
            "text/plain": "   AdoptionSpeed  Age Breed1      ...      ColorName_2 ColorName_3     StateName\n0            2.0    3    299      ...            White         NaN      Selangor\n1            0.0    1    265      ...            Brown         NaN  Kuala Lumpur\n2            3.0    1    307      ...            White         NaN      Selangor\n3            2.0    4    307      ...            Brown         NaN  Kuala Lumpur\n\n[4 rows x 31 columns]",
            "text/html": "<div>\n<style scoped>\n    .dataframe tbody tr th:only-of-type {\n        vertical-align: middle;\n    }\n\n    .dataframe tbody tr th {\n        vertical-align: top;\n    }\n\n    .dataframe thead th {\n        text-align: right;\n    }\n</style>\n<table border=\"1\" class=\"dataframe\">\n  <thead>\n    <tr style=\"text-align: right;\">\n      <th></th>\n      <th>AdoptionSpeed</th>\n      <th>Age</th>\n      <th>Breed1</th>\n      <th>Breed2</th>\n      <th>Color1</th>\n      <th>Color2</th>\n      <th>Color3</th>\n      <th>Description</th>\n      <th>Dewormed</th>\n      <th>Fee</th>\n      <th>FurLength</th>\n      <th>Gender</th>\n      <th>Health</th>\n      <th>MaturitySize</th>\n      <th>Name</th>\n      <th>PetID</th>\n      <th>PhotoAmt</th>\n      <th>Quantity</th>\n      <th>RescuerID</th>\n      <th>State</th>\n      <th>Sterilized</th>\n      <th>Type</th>\n      <th>Vaccinated</th>\n      <th>VideoAmt</th>\n      <th>dataset_type</th>\n      <th>BreedName_1</th>\n      <th>BreedName_2</th>\n      <th>ColorName_1</th>\n      <th>ColorName_2</th>\n      <th>ColorName_3</th>\n      <th>StateName</th>\n    </tr>\n  </thead>\n  <tbody>\n    <tr>\n      <th>0</th>\n      <td>2.0</td>\n      <td>3</td>\n      <td>299</td>\n      <td>0</td>\n      <td>1</td>\n      <td>7</td>\n      <td>0</td>\n      <td>Nibble is a 3+ month old ball of cuteness. He ...</td>\n      <td>2</td>\n      <td>100.0</td>\n      <td>1</td>\n      <td>1</td>\n      <td>1</td>\n      <td>1.0</td>\n      <td>Nibble</td>\n      <td>86e1089a3</td>\n      <td>1</td>\n      <td>1</td>\n      <td>8480853f516546f6cf33aa88cd76c379</td>\n      <td>41326</td>\n      <td>2</td>\n      <td>2</td>\n      <td>2</td>\n      <td>0</td>\n      <td>train</td>\n      <td>Tabby</td>\n      <td>NaN</td>\n      <td>Black</td>\n      <td>White</td>\n      <td>NaN</td>\n      <td>Selangor</td>\n    </tr>\n    <tr>\n      <th>1</th>\n      <td>0.0</td>\n      <td>1</td>\n      <td>265</td>\n      <td>0</td>\n      <td>1</td>\n      <td>2</td>\n      <td>0</td>\n      <td>I just found it alone yesterday near my apartm...</td>\n      <td>3</td>\n      <td>0.0</td>\n      <td>2</td>\n      <td>1</td>\n      <td>1</td>\n      <td>2.0</td>\n      <td>No Name Yet</td>\n      <td>6296e909a</td>\n      <td>2</td>\n      <td>1</td>\n      <td>3082c7125d8fb66f7dd4bff4192c8b14</td>\n      <td>41401</td>\n      <td>3</td>\n      <td>2</td>\n      <td>3</td>\n      <td>0</td>\n      <td>train</td>\n      <td>Domestic Medium Hair</td>\n      <td>NaN</td>\n      <td>Black</td>\n      <td>Brown</td>\n      <td>NaN</td>\n      <td>Kuala Lumpur</td>\n    </tr>\n    <tr>\n      <th>2</th>\n      <td>3.0</td>\n      <td>1</td>\n      <td>307</td>\n      <td>0</td>\n      <td>2</td>\n      <td>7</td>\n      <td>0</td>\n      <td>Their pregnant mother was dumped by her irresp...</td>\n      <td>1</td>\n      <td>0.0</td>\n      <td>2</td>\n      <td>1</td>\n      <td>1</td>\n      <td>2.0</td>\n      <td>Brisco</td>\n      <td>3422e4906</td>\n      <td>7</td>\n      <td>1</td>\n      <td>fa90fa5b1ee11c86938398b60abc32cb</td>\n      <td>41326</td>\n      <td>2</td>\n      <td>1</td>\n      <td>1</td>\n      <td>0</td>\n      <td>train</td>\n      <td>Mixed Breed</td>\n      <td>NaN</td>\n      <td>Brown</td>\n      <td>White</td>\n      <td>NaN</td>\n      <td>Selangor</td>\n    </tr>\n    <tr>\n      <th>3</th>\n      <td>2.0</td>\n      <td>4</td>\n      <td>307</td>\n      <td>0</td>\n      <td>1</td>\n      <td>2</td>\n      <td>0</td>\n      <td>Good guard dog, very alert, active, obedience ...</td>\n      <td>1</td>\n      <td>150.0</td>\n      <td>1</td>\n      <td>2</td>\n      <td>1</td>\n      <td>2.0</td>\n      <td>Miko</td>\n      <td>5842f1ff5</td>\n      <td>8</td>\n      <td>1</td>\n      <td>9238e4f44c71a75282e62f7136c6b240</td>\n      <td>41401</td>\n      <td>2</td>\n      <td>1</td>\n      <td>1</td>\n      <td>0</td>\n      <td>train</td>\n      <td>Mixed Breed</td>\n      <td>NaN</td>\n      <td>Black</td>\n      <td>Brown</td>\n      <td>NaN</td>\n      <td>Kuala Lumpur</td>\n    </tr>\n  </tbody>\n</table>\n</div>"
          },
          "metadata": {}
        }
      ]
    },
    {
      "metadata": {
        "trusted": true,
        "_uuid": "09f84eefddf28dfda2ecc1d201d322dea4273833"
      },
      "cell_type": "code",
      "source": "train_and_test_with_breeds_colors_states.shape",
      "execution_count": 151,
      "outputs": [
        {
          "output_type": "execute_result",
          "execution_count": 151,
          "data": {
            "text/plain": "(18941, 31)"
          },
          "metadata": {}
        }
      ]
    },
    {
      "metadata": {
        "trusted": true,
        "_uuid": "bacf96c23962edb276ace41e1f246aad0dd8725b"
      },
      "cell_type": "code",
      "source": "train_and_test_with_breeds_colors_states.info()",
      "execution_count": 152,
      "outputs": [
        {
          "output_type": "stream",
          "text": "<class 'pandas.core.frame.DataFrame'>\nInt64Index: 18941 entries, 0 to 18940\nData columns (total 31 columns):\nAdoptionSpeed    14993 non-null float64\nAge              18941 non-null int8\nBreed1           18941 non-null object\nBreed2           18941 non-null object\nColor1           18941 non-null category\nColor2           18941 non-null object\nColor3           18941 non-null object\nDescription      18927 non-null object\nDewormed         18941 non-null category\nFee              18941 non-null float64\nFurLength        18941 non-null int8\nGender           18941 non-null category\nHealth           18941 non-null category\nMaturitySize     18941 non-null float16\nName             17381 non-null object\nPetID            18941 non-null object\nPhotoAmt         18941 non-null uint16\nQuantity         18941 non-null uint16\nRescuerID        18941 non-null object\nState            18941 non-null uint16\nSterilized       18941 non-null category\nType             18941 non-null category\nVaccinated       18941 non-null category\nVideoAmt         18941 non-null uint16\ndataset_type     18941 non-null object\nBreedName_1      18936 non-null object\nBreedName_2      5101 non-null object\nColorName_1      18941 non-null object\nColorName_2      13393 non-null object\nColorName_3      5673 non-null object\nStateName        18941 non-null object\ndtypes: category(7), float16(1), float64(2), int8(2), object(15), uint16(4)\nmemory usage: 2.9+ MB\n",
          "name": "stdout"
        }
      ]
    },
    {
      "metadata": {
        "_uuid": "e0825aaa8f154a27d7b0b03915257079ec93f630"
      },
      "cell_type": "markdown",
      "source": "### Distriguish between categorical and numerical columns:"
    },
    {
      "metadata": {
        "trusted": true,
        "_uuid": "010201681b5ebc6a8057ceded46f447fa56cd4a9"
      },
      "cell_type": "code",
      "source": "categorical_columns = list(train_and_test_with_breeds_colors_states.loc[:, ((train_and_test_with_breeds_colors_states.dtypes ==\"category\") | (train_and_test_with_breeds_colors_states.dtypes ==\"object\"))].columns)\nnumerical_columns = list(train_and_test_with_breeds_colors_states.loc[:, ~((train_and_test_with_breeds_colors_states.dtypes ==\"category\") | (train_and_test_with_breeds_colors_states.dtypes ==\"object\"))].columns)\n\n",
      "execution_count": 170,
      "outputs": []
    },
    {
      "metadata": {
        "trusted": true,
        "_uuid": "daa0af55c42d4df5d3d74c54fa41186856413124"
      },
      "cell_type": "code",
      "source": "categorical_columns.remove(\"PetID\")\ncategorical_columns.remove(\"RescuerID\")\nprint(categorical_columns)",
      "execution_count": 173,
      "outputs": [
        {
          "output_type": "stream",
          "text": "['Breed1', 'Breed2', 'Color1', 'Color2', 'Color3', 'Description', 'Dewormed', 'Gender', 'Health', 'Name', 'Sterilized', 'Type', 'Vaccinated', 'dataset_type', 'BreedName_1', 'BreedName_2', 'ColorName_1', 'ColorName_2', 'ColorName_3', 'StateName']\n",
          "name": "stdout"
        }
      ]
    },
    {
      "metadata": {
        "trusted": true,
        "_uuid": "38f821d04edda1bc4796e2ebf70c30ad8a21a3df"
      },
      "cell_type": "code",
      "source": "print(numerical_columns)",
      "execution_count": 174,
      "outputs": [
        {
          "output_type": "stream",
          "text": "['AdoptionSpeed', 'Age', 'Fee', 'FurLength', 'MaturitySize', 'PhotoAmt', 'Quantity', 'State', 'VideoAmt']\n",
          "name": "stdout"
        }
      ]
    },
    {
      "metadata": {
        "trusted": true,
        "_uuid": "ec45e911c06604a9a8a991438a8029adcb827951"
      },
      "cell_type": "code",
      "source": "def categorical_univariate_and_bivariate_stats(feature):\n    \n    if feature in train_sample.columns:\n    \n        print(\"Top 10 most occurred categories for the categorical feature\", feature)\n        print(train_sample[feature].value_counts().head(10))\n\n        f, axes = plt.subplots(1, 2, figsize=(21, 10))\n\n        train_sample[feature].value_counts().head(10).plot.bar(ax=axes[0], colormap=\"BrBG\")\n\n        train_sample.groupby([\"HasDetections\", feature]).count()[\"MachineIdentifier\"].unstack(0).sort_values(by=1, axis=0, ascending=False).head(10).plot.bar(ax=axes[1], colormap=\"coolwarm\")\n        \n        f.suptitle(\"Categorical feature: \"+\" Univariate and Bivariate plots against the target variable\")\n        \n    else:\n        print(\"This feature has been removed from dataset due to high NaN rate or highly unbalanced values\")\n        \n        \ndef logistic_fit(feature):\n    \n    import warnings\n    warnings.filterwarnings(\"ignore\", category=FutureWarning)\n    \n    from sklearn.metrics import accuracy_score\n    from sklearn.metrics import precision_score\n    from sklearn.metrics import recall_score\n    from sklearn.metrics import f1_score\n    from sklearn.metrics import r2_score\n\n    if feature in train_sample.columns:\n        \n        from sklearn.linear_model import LogisticRegression\n        \n        f, axes = plt.subplots(1, 2, figsize=(21, 10))\n\n        # test if there is a logistic relationship between the feature1 and the target.\n        print()\n        print(\"Fitting a logistic regression model for the feature\", feature,\"against the target variable\")\n        \n               \n        mask = ~train_sample[feature].isnull() & ~train_sample[\"HasDetections\"].isnull()\n\n        logmodel = LogisticRegression(C=1e5, solver='lbfgs')\n        \n        if feature in categorical_columns:        \n            logmodel.fit(train_sample[feature][mask].cat.codes.values.reshape(-1,1), train_sample[\"HasDetections\"][mask])\n            predictions = logmodel.predict(train_sample[feature][mask].cat.codes.values.reshape(-1,1))\n        else:\n            logmodel.fit(train_sample[feature][mask].values.reshape(-1,1), train_sample[\"HasDetections\"][mask])\n            predictions = logmodel.predict(train_sample[feature][mask].values.reshape(-1,1))\n\n        from sklearn.metrics import classification_report\n        print(classification_report(train_sample[\"HasDetections\"][mask], predictions))\n        print(\"\")\n        print(\"accuracy score:\", accuracy_score(train_sample[\"HasDetections\"][mask], predictions))\n        print(\"F1 score:\", accuracy_score(train_sample[\"HasDetections\"][mask], predictions))\n        #print(\"R^2 score:\", r2_score(train_sample[\"HasDetections\"][mask], predictions))\n\n        import scikitplot as skplt\n        skplt.metrics.plot_confusion_matrix(train_sample[\"HasDetections\"][mask], predictions, normalize=False,\n                                            title = \"Confusion matrix for the feature: \"+feature+\" against the target variable after fitting a logistic regression model\",\n                                           figsize=(10,8), text_fontsize='medium', cmap=\"BrBG\", ax = axes[0])\n        \n        \n        # import statsmodels.api as sm\n        # print()\n        # est = sm.Logit(train_sample[\"HasDetections\"][mask], train_sample[feature][mask].cat.codes.values.reshape(-1,1))\n        # result1=est.fit()\n        # print(result1.summary())\n        if feature in categorical_columns:\n            axes[1] = plt.scatter(train_sample[feature][mask].cat.codes.values.reshape(-1,1), predictions)\n            axes[1] = plt.scatter(train_sample[feature][mask].cat.codes.values.reshape(-1,1), logmodel.predict_proba(train_sample[feature][mask].cat.codes.values.reshape(-1,1))[:,1])\n            plt.xlabel(feature)\n            plt.ylabel(\"HasDetections Probability\")\n            plt.title(\"Probability of Detecting a Malware vs the \"+ feature)\n            plt.show()\n        else:\n            axes[1] = plt.scatter(train_sample[feature][mask].values.reshape(-1,1), predictions)\n            axes[1] = plt.scatter(train_sample[feature][mask].values.reshape(-1,1), logmodel.predict_proba(train_sample[feature][mask].values.reshape(-1,1))[:,1])\n            plt.xlabel(feature)\n            plt.ylabel(\"HasDetections Probability\")\n            plt.title(\"Probability of Detecting a Malware vs the \"+ feature)\n            plt.show()\n        \n    else:\n        print(\"This feature has been removed from dataset due to high NaN rate or highly unbalanced values\")",
      "execution_count": 175,
      "outputs": []
    },
    {
      "metadata": {
        "trusted": true,
        "_uuid": "7d0bf0c1c8e1972abc0c6a2031d4e229fc7787f6"
      },
      "cell_type": "code",
      "source": "categorical_univariate_and_bivariate_stats(feature=\"ProductName\")\n#logistic_fit(feature=\"ProductName\")",
      "execution_count": null,
      "outputs": []
    },
    {
      "metadata": {
        "trusted": true,
        "_uuid": "b9e102026caf711af55378dd09e339b284497cb8"
      },
      "cell_type": "code",
      "source": "all_data['Type'] = all_data['Type'].apply(lambda x: 'Dog' if x == 1 else 'Cat')\nplt.figure(figsize=(10, 6));\nsns.countplot(x='dataset_type', data=all_data, hue='Type');\nplt.title('Number of cats and dogs in train and test data');",
      "execution_count": null,
      "outputs": []
    },
    {
      "metadata": {
        "_uuid": "62fa6027c861424177eb21a65603b7cff2c6d6cd"
      },
      "cell_type": "markdown",
      "source": "We can see that the rate of dogs in train dataset is higher that in test set. But I don't think the difference is seriuos.\n\nComparison of rates\nFrom here on I'll compare not only counts of pets in different categories, but also compate adoption speed rates with base ones.\n\nThis is how it works:\n\nAs we saw earlier the base rate of pets with Adoption speed 0 is 410 / 14993 = 0.027;\nNow look at the next graph: there are 6861 cats in train dataset and 240 of them have Adoption Speed 0. So the rate is 240 / 6861 = 0.035;\n0.035/0.027 = 1.28, so by splitting out the data to cat vs dog, we can see that cats have a 28% increased chance of adoption speed class 0 over the base rate of adoption;"
    },
    {
      "metadata": {
        "trusted": true,
        "_uuid": "761ea3112970111fa8a98286584f0181b69af5d3"
      },
      "cell_type": "code",
      "source": "### I want to thank https://www.kaggle.com/artgor/exploration-of-data-step-by-step for the following plot:\n\nmain_count = train['AdoptionSpeed'].value_counts(normalize=True).sort_index()\ndef prepare_plot_dict(df, col, main_count):\n    \"\"\"\n    Preparing dictionary with data for plotting.\n    \n    I want to show how much higher/lower are the rates of Adoption speed for the current column comparing to base values (as described higher),\n    At first I calculate base rates, then for each category in the column I calculate rates of Adoption speed and find difference with the base rates.\n    \n    \"\"\"\n    main_count = dict(main_count)\n    plot_dict = {}\n    for i in df[col].unique():\n        val_count = dict(df.loc[df[col] == i, 'AdoptionSpeed'].value_counts().sort_index())\n\n        for k, v in main_count.items():\n            if k in val_count:\n                plot_dict[val_count[k]] = ((val_count[k] / sum(val_count.values())) / main_count[k]) * 100 - 100\n            else:\n                plot_dict[0] = 0\n\n    return plot_dict\n\ndef make_count_plot(df, x, hue='AdoptionSpeed', title='', main_count=main_count):\n    \"\"\"\n    Plotting countplot with correct annotations.\n    \"\"\"\n    g = sns.countplot(x=x, data=df, hue=hue);\n    plt.title(f'AdoptionSpeed {title}');\n    ax = g.axes\n\n    plot_dict = prepare_plot_dict(df, x, main_count)\n\n    for p in ax.patches:\n        h = p.get_height() if str(p.get_height()) != 'nan' else 0\n        text = f\"{plot_dict[h]:.0f}%\" if plot_dict[h] < 0 else f\"+{plot_dict[h]:.0f}%\"\n        ax.annotate(text, (p.get_x() + p.get_width() / 2., h),\n             ha='center', va='center', fontsize=11, color='green' if plot_dict[h] > 0 else 'red', rotation=0, xytext=(0, 10),\n             textcoords='offset points')",
      "execution_count": null,
      "outputs": []
    },
    {
      "metadata": {
        "trusted": true,
        "_uuid": "523c334f51c93609f9b3db9b53a48ae50a62fecd"
      },
      "cell_type": "code",
      "source": "plt.figure(figsize=(18, 8));\nmake_count_plot(df=all_data.loc[all_data['dataset_type'] == 'train'], x='Type', title='by pet Type')",
      "execution_count": null,
      "outputs": []
    },
    {
      "metadata": {
        "trusted": true,
        "_uuid": "7d93a123d2700b522dab73e4487e48aa83b51ead"
      },
      "cell_type": "code",
      "source": "fig, ax = plt.subplots(figsize = (16, 12))\nplt.subplot(1, 2, 1)\ntext_cat = ' '.join(all_data.loc[all_data['Type'] == 'Cat', 'Name'].fillna('').values)\nwordcloud = WordCloud(max_font_size=None, background_color='white',\n                      width=1200, height=1000).generate(text_cat)\nplt.imshow(wordcloud)\nplt.title('Top cat names')\nplt.axis(\"off\")\n\nplt.subplot(1, 2, 2)\ntext_dog = ' '.join(all_data.loc[all_data['Type'] == 'Dog', 'Name'].fillna('').values)\nwordcloud = WordCloud(max_font_size=None, background_color='white',\n                      width=1200, height=1000).generate(text_dog)\nplt.imshow(wordcloud)\nplt.title('Top dog names')\nplt.axis(\"off\")\n\nplt.show()",
      "execution_count": null,
      "outputs": []
    },
    {
      "metadata": {
        "trusted": true,
        "_uuid": "cc6aac74a2e55914f5c650109d6b67c0eeadb4b2"
      },
      "cell_type": "code",
      "source": "",
      "execution_count": null,
      "outputs": []
    }
  ],
  "metadata": {
    "kernelspec": {
      "display_name": "Python 3",
      "language": "python",
      "name": "python3"
    },
    "language_info": {
      "name": "python",
      "version": "3.6.6",
      "mimetype": "text/x-python",
      "codemirror_mode": {
        "name": "ipython",
        "version": 3
      },
      "pygments_lexer": "ipython3",
      "nbconvert_exporter": "python",
      "file_extension": ".py"
    }
  },
  "nbformat": 4,
  "nbformat_minor": 1
}